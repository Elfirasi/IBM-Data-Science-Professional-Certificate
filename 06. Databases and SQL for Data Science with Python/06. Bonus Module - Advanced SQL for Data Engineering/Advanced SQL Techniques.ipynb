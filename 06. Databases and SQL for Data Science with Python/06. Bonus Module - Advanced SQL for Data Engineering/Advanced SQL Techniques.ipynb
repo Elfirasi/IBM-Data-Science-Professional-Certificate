{
 "cells": [
  {
   "cell_type": "markdown",
   "metadata": {},
   "source": [
    "<center>\n",
    "    <img src=\"https://s3-api.us-geo.objectstorage.softlayer.net/cf-courses-data/CognitiveClass/Logos/organization_logo/organization_logo.png\" width=\"300\" alt=\"cognitiveclass.ai logo\"  />\n",
    "</center>\n",
    "\n",
    "<h1 align=center><font size = 5>Assignment: Advanced SQL Techniques</font></h1>\n"
   ]
  },
  {
   "cell_type": "markdown",
   "metadata": {},
   "source": [
    "### Connect to the database\n",
    "\n",
    "Let us first load the SQL extension and establish a connection with the database\n"
   ]
  },
  {
   "cell_type": "code",
   "execution_count": 1,
   "metadata": {},
   "outputs": [
    {
     "name": "stdout",
     "output_type": "stream",
     "text": [
      "Requirement already satisfied: sqlalchemy==1.3.9 in c:\\users\\dabarnes\\anaconda3\\lib\\site-packages (1.3.9)\n",
      "Requirement already satisfied: ibm_db_sa in c:\\users\\dabarnes\\anaconda3\\lib\\site-packages (0.3.6)\n",
      "Requirement already satisfied: sqlalchemy>=0.7.3 in c:\\users\\dabarnes\\anaconda3\\lib\\site-packages (from ibm_db_sa) (1.3.9)\n",
      "Requirement already satisfied: ibm-db>=2.0.0 in c:\\users\\dabarnes\\anaconda3\\lib\\site-packages (from ibm_db_sa) (3.0.4)\n"
     ]
    }
   ],
   "source": [
    "!pip install sqlalchemy==1.3.9\n",
    "!pip install ibm_db_sa"
   ]
  },
  {
   "cell_type": "code",
   "execution_count": 2,
   "metadata": {},
   "outputs": [],
   "source": [
    "%load_ext sql"
   ]
  },
  {
   "cell_type": "code",
   "execution_count": 3,
   "metadata": {},
   "outputs": [
    {
     "name": "stdout",
     "output_type": "stream",
     "text": [
      "DB2/LINUXX8664\n"
     ]
    }
   ],
   "source": [
    "# Remember the connection string is of the format:\n",
    "# %sql ibm_db_sa://my-username:my-password@my-hostname:my-port/my-db-name\n",
    "# Enter the connection string for your Db2 on Cloud database instance below\n",
    "%sql ibm_db_sa://kfm42587:6zkhf3chpx0-m9cl@dashdb-txn-sbox-yp-lon02-13.services.eu-gb.bluemix.net:50000/BLUDB"
   ]
  },
  {
   "cell_type": "markdown",
   "metadata": {},
   "source": [
    "## Exercise 1: Using Joins\n",
    "\n",
    "You have been asked to produce some reports about the communities and crimes in the Chicago area. You will need to use SQL join queries to access the data stored across multiple tables.\n",
    "\n",
    "### Question 1\n",
    "\n",
    "##### Write and execute a SQL query to list the school names, community names and average attendance for communities with a hardship index of 98.\n"
   ]
  },
  {
   "cell_type": "code",
   "execution_count": 19,
   "metadata": {},
   "outputs": [
    {
     "name": "stdout",
     "output_type": "stream",
     "text": [
      " * ibm_db_sa://kfm42587:***@dashdb-txn-sbox-yp-lon02-13.services.eu-gb.bluemix.net:50000/BLUDB\n",
      "Done.\n"
     ]
    },
    {
     "data": {
      "text/html": [
       "<table>\n",
       "    <tr>\n",
       "        <th>name_of_school</th>\n",
       "        <th>community_area_name</th>\n",
       "        <th>average_student_attendance</th>\n",
       "    </tr>\n",
       "    <tr>\n",
       "        <td>George Washington Carver Military Academy High School</td>\n",
       "        <td>RIVERDALE</td>\n",
       "        <td>91.60%</td>\n",
       "    </tr>\n",
       "    <tr>\n",
       "        <td>George Washington Carver Primary School</td>\n",
       "        <td>RIVERDALE</td>\n",
       "        <td>90.90%</td>\n",
       "    </tr>\n",
       "    <tr>\n",
       "        <td>Ira F Aldridge Elementary School</td>\n",
       "        <td>RIVERDALE</td>\n",
       "        <td>92.90%</td>\n",
       "    </tr>\n",
       "    <tr>\n",
       "        <td>William E B Dubois Elementary School</td>\n",
       "        <td>RIVERDALE</td>\n",
       "        <td>93.30%</td>\n",
       "    </tr>\n",
       "</table>"
      ],
      "text/plain": [
       "[('George Washington Carver Military Academy High School', 'RIVERDALE', '91.60%'),\n",
       " ('George Washington Carver Primary School', 'RIVERDALE', '90.90%'),\n",
       " ('Ira F Aldridge Elementary School', 'RIVERDALE', '92.90%'),\n",
       " ('William E B Dubois Elementary School', 'RIVERDALE', '93.30%')]"
      ]
     },
     "execution_count": 19,
     "metadata": {},
     "output_type": "execute_result"
    }
   ],
   "source": [
    "%%sql\n",
    "SELECT S.NAME_OF_SCHOOL, S.COMMUNITY_AREA_NAME, S.AVERAGE_STUDENT_ATTENDANCE FROM CHICAGO_PUBLIC_SCHOOLS S \n",
    "LEFT OUTER JOIN CENSUS_DATA C \n",
    "ON S.COMMUNITY_AREA_NUMBER = C.COMMUNITY_AREA_NUMBER \n",
    "WHERE C.HARDSHIP_INDEX = 98.0"
   ]
  },
  {
   "cell_type": "markdown",
   "metadata": {},
   "source": [
    "### Question 2\n",
    "\n",
    "#### Write and execute a SQL query to list all crimes that took place at a school. Include case number, crime type and community name."
   ]
  },
  {
   "cell_type": "code",
   "execution_count": 22,
   "metadata": {},
   "outputs": [
    {
     "name": "stdout",
     "output_type": "stream",
     "text": [
      " * ibm_db_sa://kfm42587:***@dashdb-txn-sbox-yp-lon02-13.services.eu-gb.bluemix.net:50000/BLUDB\n",
      "Done.\n"
     ]
    },
    {
     "data": {
      "text/html": [
       "<table>\n",
       "    <tr>\n",
       "        <th>case_number</th>\n",
       "        <th>primary_type</th>\n",
       "        <th>community_area_name</th>\n",
       "    </tr>\n",
       "    <tr>\n",
       "        <td>HK577020</td>\n",
       "        <td>NARCOTICS</td>\n",
       "        <td>Rogers Park</td>\n",
       "    </tr>\n",
       "    <tr>\n",
       "        <td>HL725506</td>\n",
       "        <td>BATTERY</td>\n",
       "        <td>Lincoln Square</td>\n",
       "    </tr>\n",
       "    <tr>\n",
       "        <td>HH639427</td>\n",
       "        <td>BATTERY</td>\n",
       "        <td>Austin</td>\n",
       "    </tr>\n",
       "    <tr>\n",
       "        <td>HS200939</td>\n",
       "        <td>CRIMINAL DAMAGE</td>\n",
       "        <td>Austin</td>\n",
       "    </tr>\n",
       "    <tr>\n",
       "        <td>HT315369</td>\n",
       "        <td>ASSAULT</td>\n",
       "        <td>East Garfield Park</td>\n",
       "    </tr>\n",
       "    <tr>\n",
       "        <td>HP716225</td>\n",
       "        <td>BATTERY</td>\n",
       "        <td>Douglas</td>\n",
       "    </tr>\n",
       "    <tr>\n",
       "        <td>HL353697</td>\n",
       "        <td>BATTERY</td>\n",
       "        <td>South Shore</td>\n",
       "    </tr>\n",
       "    <tr>\n",
       "        <td>HS305355</td>\n",
       "        <td>NARCOTICS</td>\n",
       "        <td>Brighton Park</td>\n",
       "    </tr>\n",
       "    <tr>\n",
       "        <td>JA460432</td>\n",
       "        <td>BATTERY</td>\n",
       "        <td>Ashburn</td>\n",
       "    </tr>\n",
       "    <tr>\n",
       "        <td>HR585012</td>\n",
       "        <td>CRIMINAL TRESPASS</td>\n",
       "        <td>Ashburn</td>\n",
       "    </tr>\n",
       "    <tr>\n",
       "        <td>HH292682</td>\n",
       "        <td>PUBLIC PEACE VIOLATION</td>\n",
       "        <td>None</td>\n",
       "    </tr>\n",
       "    <tr>\n",
       "        <td>G635735</td>\n",
       "        <td>PUBLIC PEACE VIOLATION</td>\n",
       "        <td>None</td>\n",
       "    </tr>\n",
       "</table>"
      ],
      "text/plain": [
       "[('HK577020', 'NARCOTICS', 'Rogers Park'),\n",
       " ('HL725506', 'BATTERY', 'Lincoln Square'),\n",
       " ('HH639427', 'BATTERY', 'Austin'),\n",
       " ('HS200939', 'CRIMINAL DAMAGE', 'Austin'),\n",
       " ('HT315369', 'ASSAULT', 'East Garfield Park'),\n",
       " ('HP716225', 'BATTERY', 'Douglas'),\n",
       " ('HL353697', 'BATTERY', 'South Shore'),\n",
       " ('HS305355', 'NARCOTICS', 'Brighton Park'),\n",
       " ('JA460432', 'BATTERY', 'Ashburn'),\n",
       " ('HR585012', 'CRIMINAL TRESPASS', 'Ashburn'),\n",
       " ('HH292682', 'PUBLIC PEACE VIOLATION', None),\n",
       " ('G635735', 'PUBLIC PEACE VIOLATION', None)]"
      ]
     },
     "execution_count": 22,
     "metadata": {},
     "output_type": "execute_result"
    }
   ],
   "source": [
    "%%sql\n",
    "SELECT CR.CASE_NUMBER, CR.PRIMARY_TYPE, CE.COMMUNITY_AREA_NAME FROM CHICAGO_CRIME_DATA CR\n",
    "LEFT OUTER JOIN CENSUS_DATA CE \n",
    "ON CR.COMMUNITY_AREA_NUMBER = CE.COMMUNITY_AREA_NUMBER \n",
    "WHERE CR.LOCATION_DESCRIPTION LIKE '%SCHOOL%'"
   ]
  },
  {
   "cell_type": "markdown",
   "metadata": {},
   "source": [
    "## Exercise 2: Creating a View\n",
    "\n",
    "### Question 1\n",
    "\n",
    "#### Write and execute a SQL statement to create a view showing the columns listed in the following table, with new column names as shown in the second column.\n",
    "#### Write and execute a SQL statement that returns all of the columns from the view.\n",
    "#### Write and execute a SQL statement that returns just the school name and leaders rating from the view."
   ]
  },
  {
   "cell_type": "code",
   "execution_count": 23,
   "metadata": {},
   "outputs": [
    {
     "name": "stdout",
     "output_type": "stream",
     "text": [
      " * ibm_db_sa://kfm42587:***@dashdb-txn-sbox-yp-lon02-13.services.eu-gb.bluemix.net:50000/BLUDB\n",
      "(ibm_db_dbi.ProgrammingError) ibm_db_dbi::ProgrammingError: Statement Execute Failed: [IBM][CLI Driver][DB2/LINUXX8664] SQL0104N  An unexpected token \"SELECT\" was found following \"CREATE VIEW AS \".  Expected tokens may include:  \"AS\".  SQLSTATE=42601\\r SQLCODE=-104\n",
      "[SQL: CREATE VIEW AS SELECT\n",
      "FROM CHICAGO_PUBLIC_SCHOOLS]\n",
      "(Background on this error at: http://sqlalche.me/e/f405)\n"
     ]
    }
   ],
   "source": [
    "%%sql\n",
    "CREATE VIEW \n",
    "\n",
    "AS SELECT\n",
    "FROM CHICAGO_PUBLIC_SCHOOLS\n"
   ]
  },
  {
   "cell_type": "code",
   "execution_count": 43,
   "metadata": {},
   "outputs": [
    {
     "name": "stdout",
     "output_type": "stream",
     "text": [
      " * ibm_db_sa://kfm42587:***@dashdb-txn-sbox-yp-lon02-13.services.eu-gb.bluemix.net:50000/BLUDB\n",
      "(ibm_db_dbi.ProgrammingError) ibm_db_dbi::ProgrammingError: Statement Execute Failed: [IBM][CLI Driver][DB2/LINUXX8664] SQL0104N  An unexpected token \"END-OF-STATEMENT\" was found following \"l_ID\" = in_School_ID\".  Expected tokens may include:  \"<psm_semicolon>\".  LINE NUMBER=5.  SQLSTATE=42601\\r SQLCODE=-104\n",
      "[SQL: --#SET TERMINATOR@ CREATE PROCEDURE UPDATE_LEADERS_SCORE(IN in_School_ID INTEGER, IN in_Leader_Score INTEGER)\n",
      "BEGIN\n",
      "    UPDATE SCHOOLS\n",
      "    SET \"Leaders_Score\" = in_Leader_Score\n",
      "    WHERE \"School_ID\" = in_School_ID;]\n",
      "(Background on this error at: http://sqlalche.me/e/f405)\n"
     ]
    }
   ],
   "source": [
    "%%sql\n",
    "--#SET TERMINATOR@\n",
    "CREATE PROCEDURE UPDATE_LEADERS_SCORE(IN in_School_ID INTEGER, IN in_Leader_Score INTEGER)\n",
    "BEGIN\n",
    "    UPDATE SCHOOLS\n",
    "    SET \"Leaders_Score\" = in_Leader_Score\n",
    "    WHERE \"School_ID\" = in_School_ID;\n",
    "    \n",
    "    IF in_Leader_Score > 0 AND in_Leader_Score < 20 \n",
    "        THEN\n",
    "            UPDATE CHICAGO_PUBLIC_SCHOOLS\n",
    "                SET \"Leaders_Icon\" = 'Very Weak';\n",
    "        ELSEIF in_Leader_Score < 40 THEN\n",
    "        UPDATE CHICAGO_PUBLIC_SCHOOLS\n",
    "            SET \"Leaders_Icon\" = 'Weak';\n",
    "        ELSEIF in_Leader_Score < 60 THEN\n",
    "            UPDATE CHICAGO_PUBLIC_SCHOOLS\n",
    "                SET \"Leaders_Icon\" = 'Average';\n",
    "        ELSEIF in_Leader_Score < 80 THEN\n",
    "            UPDATE CHICAGO_PUBLIC_SCHOOLS\n",
    "                SET \"Leaders_Icon\" = 'Strong';\n",
    "        ELSEIF in_Leader_Score < 100 THEN\n",
    "            UPDATE CHICAGO_PUBLIC_SCHOOLS\n",
    "                SET \"Leaders_Icon\" = 'Very Strong';\n",
    "        END IF;\n",
    "END@"
   ]
  },
  {
   "cell_type": "code",
   "execution_count": null,
   "metadata": {},
   "outputs": [],
   "source": []
  },
  {
   "cell_type": "code",
   "execution_count": null,
   "metadata": {},
   "outputs": [],
   "source": []
  }
 ],
 "metadata": {
  "kernelspec": {
   "display_name": "Python 3",
   "language": "python",
   "name": "python3"
  },
  "language_info": {
   "codemirror_mode": {
    "name": "ipython",
    "version": 3
   },
   "file_extension": ".py",
   "mimetype": "text/x-python",
   "name": "python",
   "nbconvert_exporter": "python",
   "pygments_lexer": "ipython3",
   "version": "3.8.5"
  },
  "widgets": {
   "state": {},
   "version": "1.1.2"
  }
 },
 "nbformat": 4,
 "nbformat_minor": 4
}
