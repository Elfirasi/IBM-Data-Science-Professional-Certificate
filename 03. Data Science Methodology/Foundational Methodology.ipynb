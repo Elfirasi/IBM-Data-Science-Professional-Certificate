{
 "cells": [
  {
   "cell_type": "markdown",
   "metadata": {},
   "source": [
    "# Foundational Methodology"
   ]
  },
  {
   "cell_type": "markdown",
   "metadata": {},
   "source": [
    "# ![Foundational Methodology](/The-IBM-Foundational-Methodology-for-Data-Science.png)"
   ]
  },
  {
   "cell_type": "markdown",
   "metadata": {},
   "source": [
    "## What is the Data Science Methodology?\n",
    "\n",
    "In a nutshell, the Data Science Methodology aims to answer 10 basic questions in a prescribed sequence:\n",
    "\n",
    "<strong>From problem to approach:</strong>\n",
    "1. What is the problem that you are trying to solve?\n",
    "2. How can you use data to answer the question?\n",
    "\n",
    "<strong>Working with the data:</strong>\n",
    "\n",
    "3. What data do you need to answer the question?\n",
    "4. Where is the data coming from (identify all sources) and how will you get it?\n",
    "5. Is the data that you collected representative of the problem to be solved?\n",
    "6. What additional work is required to manipulate and work with the data?\n",
    "\n",
    "<strong>Deriving the answer: </strong>\n",
    "\n",
    "7. In what way can the data be visualized to get the answer that is required?\n",
    "8. Does the model used really answer the initial question or does it need to be adjusted?\n",
    "9. Can you put the model into practice?\n",
    "10. Can you get constructive feedback into answering the question?"
   ]
  },
  {
   "cell_type": "markdown",
   "metadata": {},
   "source": []
  }
 ],
 "metadata": {
  "language_info": {
   "name": "python"
  },
  "orig_nbformat": 4
 },
 "nbformat": 4,
 "nbformat_minor": 2
}
