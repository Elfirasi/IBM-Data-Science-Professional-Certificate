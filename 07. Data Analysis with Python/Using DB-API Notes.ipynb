{
 "cells": [
  {
   "cell_type": "markdown",
   "metadata": {},
   "source": [
    "# Writing code using DB-API\n",
    "\n",
    "The following format of code should be used when using the DB-API:"
   ]
  },
  {
   "cell_type": "code",
   "execution_count": null,
   "metadata": {},
   "outputs": [],
   "source": [
    "#Necessary import\n",
    "from dbmodule import connect\n",
    "\n",
    "#Create connection object\n",
    "connection = connect('databasename', 'username', 'password')\n",
    "\n",
    "#Create a cursor object\n",
    "cursor = connection.cursor()\n",
    "\n",
    "#Run queries\n",
    "cursor.execute('select * from mytable')\n",
    "results = cursor.fetchall()\n",
    "\n",
    "#Free resources up\n",
    "Cursor.close()\n",
    "connection.close()\n",
    "\n"
   ]
  }
 ],
 "metadata": {
  "language_info": {
   "name": "python"
  },
  "orig_nbformat": 4
 },
 "nbformat": 4,
 "nbformat_minor": 2
}
